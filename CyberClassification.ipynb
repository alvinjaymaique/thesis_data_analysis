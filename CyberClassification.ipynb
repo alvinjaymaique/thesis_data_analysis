{
 "cells": [
  {
   "cell_type": "code",
   "execution_count": 1,
   "id": "1fdafc41-23c4-4cfd-9e80-9929fa26d20b",
   "metadata": {},
   "outputs": [],
   "source": [
    "from sklearn.tree import DecisionTreeClassifier\n",
    "from sklearn.linear_model import LogisticRegression\n",
    "from sklearn.ensemble import RandomForestClassifier, GradientBoostingClassifier\n",
    "from sklearn.svm import SVC\n",
    "from sklearn.neural_network import MLPClassifier\n",
    "from sklearn.model_selection import train_test_split\n",
    "from sklearn.metrics import precision_score\n",
    "from sklearn.preprocessing import StandardScaler, MinMaxScaler\n",
    "import numpy as np\n",
    "\n",
    "class Model:\n",
    "    MODELS_DICT = {\n",
    "        'decision_tree': lambda random_state: DecisionTreeClassifier(random_state=random_state),\n",
    "        'logistic_reg': lambda random_state: LogisticRegression(random_state=random_state),\n",
    "        'random_forest': lambda random_state: RandomForestClassifier(random_state=random_state),\n",
    "        'svm': lambda random_state: SVC(random_state=random_state, probability=True),\n",
    "        'gbm': lambda random_state: GradientBoostingClassifier(random_state=random_state),\n",
    "        'mlp': lambda random_state: MLPClassifier(random_state=random_state, max_iter=5000, solver='adam')\n",
    "    }\n",
    "    \n",
    "    def __init__(self, data_X, data_y, model, scaler='standard', test_size=0.2, random_state=42):\n",
    "        self.scaler = self.select_scaler(scaler)\n",
    "        data_X = self.scaler.fit_transform(data_X)\n",
    "        \n",
    "        self.X_train, self.X_test, self.y_train, self.y_test = train_test_split(\n",
    "            data_X, data_y, test_size=test_size, random_state=random_state\n",
    "        )\n",
    "        self.model = self.MODELS_DICT[model](random_state)\n",
    "        self.model.fit(self.X_train, self.y_train)\n",
    "        self.y_test_pred = self.model.predict(self.X_test)\n",
    "\n",
    "    def select_scaler(self, scaler):\n",
    "        if scaler == 'standard':\n",
    "            return StandardScaler()\n",
    "        elif scaler == 'minmax':\n",
    "            return MinMaxScaler()\n",
    "        else:\n",
    "            return StandardScaler()\n",
    "\n",
    "    def predict(self, new_data_X):\n",
    "        new_data_X = self.scaler.transform(new_data_X)\n",
    "        return self.model.predict(new_data_X)\n",
    "\n",
    "    def accuracy(self):\n",
    "        return self.model.score(self.X_test, self.y_test)\n",
    "\n",
    "    def precision(self, average='macro'):\n",
    "        return precision_score(self.y_test, self.y_test_pred, average=average)\n",
    "\n",
    "    def get_model(self):\n",
    "        return self.model\n"
   ]
  },
  {
   "cell_type": "code",
   "execution_count": null,
   "id": "5860d666-ce7f-4db3-88e2-f24401867515",
   "metadata": {},
   "outputs": [],
   "source": []
  }
 ],
 "metadata": {
  "kernelspec": {
   "display_name": "Python 3 (ipykernel)",
   "language": "python",
   "name": "python3"
  },
  "language_info": {
   "codemirror_mode": {
    "name": "ipython",
    "version": 3
   },
   "file_extension": ".py",
   "mimetype": "text/x-python",
   "name": "python",
   "nbconvert_exporter": "python",
   "pygments_lexer": "ipython3",
   "version": "3.10.0"
  }
 },
 "nbformat": 4,
 "nbformat_minor": 5
}
